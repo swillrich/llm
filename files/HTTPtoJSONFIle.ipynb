{
 "cells": [
  {
   "cell_type": "code",
   "execution_count": 5,
   "id": "f848f9c5-cb88-4092-9df2-c5e8cb6f77ed",
   "metadata": {},
   "outputs": [
    {
     "name": "stdout",
     "output_type": "stream",
     "text": [
      "Collecting python-dotenv\n",
      "  Downloading python_dotenv-1.1.0-py3-none-any.whl.metadata (24 kB)\n",
      "Downloading python_dotenv-1.1.0-py3-none-any.whl (20 kB)\n",
      "Installing collected packages: python-dotenv\n",
      "Successfully installed python-dotenv-1.1.0\n"
     ]
    }
   ],
   "source": [
    "!pip install python-dotenv"
   ]
  },
  {
   "cell_type": "code",
   "execution_count": 7,
   "id": "30de3350-c483-4233-9a4f-5c0705509e29",
   "metadata": {},
   "outputs": [
    {
     "name": "stdout",
     "output_type": "stream",
     "text": [
      "Status code: 200\n",
      "test_data/entries_response.json\n",
      "Response saved to entries_response.json\n"
     ]
    }
   ],
   "source": [
    "import os\n",
    "import requests\n",
    "import json\n",
    "\n",
    "from dotenv import load_dotenv\n",
    "\n",
    "load_dotenv(dotenv_path=\"env.env\")  # Loads from .env into os.environ\n",
    "\n",
    "#url = \"https://messe.intratool.de/api/manual/entries/\"\n",
    "url = os.getenv(\"INTRATOOL_URL\")\n",
    "token = os.getenv(\"INTRATOOL_TOKEN\")\n",
    "\n",
    "headers = {\n",
    "    \"Authorization\": token,\n",
    "    \"User-Agent\": \"PostmanRuntime/7.28.4\",\n",
    "    \"Accept\": \"application/json\",\n",
    "    \"Accept-Encoding\": \"gzip, deflate, br\",\n",
    "    \"Connection\": \"keep-alive\"\n",
    "}\n",
    "\n",
    "response = requests.get(url, headers=headers)\n",
    "\n",
    "print(f\"Status code: {response.status_code}\")\n",
    "\n",
    "if response.status_code == 200:\n",
    "    if response.text.strip():  # only try to parse if content is not empty\n",
    "        try:\n",
    "            data = response.json()\n",
    "            file_name = \"entries_response.json\"\n",
    "            path = os.path.join(\"test_data\", file_name)\n",
    "            print(path)\n",
    "            with open(\"test_data/entries_response.json\", \"w\", encoding=\"utf-8\") as f:\n",
    "                json.dump(data, f, ensure_ascii=False, indent=2)\n",
    "            print(\"Response saved to entries_response.json\")\n",
    "        except json.JSONDecodeError:\n",
    "            print(\"Response is not valid JSON. Saving raw text instead.\")\n",
    "            with open(\"entries_response.txt\", \"w\", encoding=\"utf-8\") as f:\n",
    "                f.write(response.text)\n",
    "    else:\n",
    "        print(\"Empty response body.\")\n",
    "else:\n",
    "    print(f\"Request failed: {response.status_code}\")"
   ]
  }
 ],
 "metadata": {
  "kernelspec": {
   "display_name": "Python 3 (ipykernel)",
   "language": "python",
   "name": "python3"
  },
  "language_info": {
   "codemirror_mode": {
    "name": "ipython",
    "version": 3
   },
   "file_extension": ".py",
   "mimetype": "text/x-python",
   "name": "python",
   "nbconvert_exporter": "python",
   "pygments_lexer": "ipython3",
   "version": "3.11.6"
  }
 },
 "nbformat": 4,
 "nbformat_minor": 5
}
