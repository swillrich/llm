{
 "cells": [
  {
   "cell_type": "code",
   "execution_count": 9,
   "id": "783d020b-8c67-4c7e-b1d8-a8065a086e78",
   "metadata": {},
   "outputs": [
    {
     "name": "stdout",
     "output_type": "stream",
     "text": [
      "Response:  Julius und Sven sind beide männliche Vornamen, was bedeutet, dass sie gleiche Personennamen sind.\n",
      "\n",
      "⏱️ Time taken: 37.06 seconds\n"
     ]
    }
   ],
   "source": [
    "import requests\n",
    "import time\n",
    "#!pip install scikit-learn llama-cpp-python\n",
    "\n",
    "def query_mistral(model, prompt):\n",
    "    url = \"http://ollama:11434/api/generate\"\n",
    "    payload = {\n",
    "        \"model\": model,\n",
    "        \"prompt\": prompt,\n",
    "        \"stream\": False,\n",
    "    }\n",
    "\n",
    "    start_time = time.time()\n",
    "    response = requests.post(url, json=payload)\n",
    "    end_time = time.time()\n",
    "\n",
    "    result = response.json()[\"response\"]\n",
    "    duration = end_time - start_time\n",
    "\n",
    "    print(f\"Response: {result}\")\n",
    "    print(f\"\\n⏱️ Time taken: {duration:.2f} seconds\")\n",
    "\n",
    "query_mistral(\"mistral\", \"Was ist die Gemeinsamkeit von Julius und Sven?\")\n",
    "#query_mistral(\"llama2\", \"Kannst du mir auf Deutsch antworten?\")"
   ]
  },
  {
   "cell_type": "code",
   "execution_count": 4,
   "id": "10c862f6-d836-41c4-b196-5d7d72c0e96d",
   "metadata": {},
   "outputs": [
    {
     "data": {
      "text/plain": [
       "{'Handbuch.txt': 'Die Sahnemaschine muss täglich und wöchentlich gereinigt werden.\\n \\nTägliche Desinfektionsreinigung:\\n \\nSaugrohr und den Sahnetopf herausnehmen und unter fließendem Wasser reinigen\\nSpültopf mit 1,5 L warmem Wasser füllen und in den Sanomat setzen\\nEimer unter die Düse stellen\\nReinigungstaste drücken\\nTauschen der Garniertülle gegen die Reinigungsdüse\\nSpültopf mit 1,5 L  warmem Wasser und 30 ml SANO-Desinfektion füllen\\nReinigungstaste drücken\\nSpültopf reinigen\\nZur Nachreinigung 1,5 L kaltes Wasser in den Spültopf füllen\\nReinigungstaste drücken\\nReinigungsdüse durch die gereinigte Garniertülle ersetzen\\nEin Tuch mit SANO-Desinfektion tränken und die Maschine von außen und innen reinigen\\nDas Gerät über Nacht eingeschaltet lassen\\n \\n \\nWöchentliche Desinfektionsreinigung:\\n \\nSaugrohr aus dem Gehäuse ziehen\\nGehäuse vom Ventilkopf abziehen\\nLuftregulierungsschraube abschrauben\\nGabel herausziehen\\nGabel von unten in das Gehäuse stoßen und die Luftdüsenscheibe und das Rückschlagventil herausdrücken\\nDie Luftdüsenscheibe mit kleinster Bürste reinigen\\nAlle Teile mit SANO-Desinfektion reinigen und gründlich unter fließend heißem Wasser abspülen\\nGehäuse drehend in den Ventilkopf einsetzen, sodass es korrekt einrastet\\nSaugrohr-Bohrung nach rechts, nicht nach hinten\\nAlle Teile sowie Suagrohr wieder einsetzen\\nLuftregulierungsschraube im Uhrzeigersinn zudrehen\\nLuftregulierung nie in der Stellung \"0\" stehenlassen'}"
      ]
     },
     "execution_count": 4,
     "metadata": {},
     "output_type": "execute_result"
    }
   ],
   "source": [
    "import os\n",
    "\n",
    "folder_path = \"test_data\"\n",
    "text_files = [f for f in os.listdir(folder_path) if f.endswith(\".txt\")]\n",
    "\n",
    "documents = {}\n",
    "for file_name in text_files:\n",
    "    with open(os.path.join(folder_path, file_name), 'r', encoding='utf-8') as file:\n",
    "        documents[file_name] = file.read()\n",
    "all_text = \"\\n\\n\".join(documents.values())\n",
    "documents"
   ]
  },
  {
   "cell_type": "code",
   "execution_count": 27,
   "id": "7afbf3c4-4c6b-4625-a927-129ea0b7db72",
   "metadata": {},
   "outputs": [
    {
     "name": "stdout",
     "output_type": "stream",
     "text": [
      "Response:  Wenn du mehr als 1,5 Liter in den Spültopf gemacht hast, mache folgendes um die Menge korrigieren zu können:\n",
      "\n",
      "   Wenn du mehr als 1,5 Liter Wasser im Spültopf hast, dann solltest du das Wasser aus dem Spültopf entleeren und es bis auf das richtige Maß von 1,5 Litern füllen. Dann kannst du mit der Täglichen Desinfektionsreinigung fortfahren, indem du den Tap in den Spültopf legst und die Verfahren wie oben beschrieben ausführst.\n",
      "\n",
      "⏱️ Time taken: 97.67 seconds\n"
     ]
    }
   ],
   "source": [
    "question = \"Was ist, wenn ich mehr als 1,5 Liter in den Spültopf gemacht habe?\"\n",
    "full_prompt = f\"\"\"Bitte folgende Frage beantworten: \"{question}\". \n",
    "Der Input zur Beantwortung der Frage wie folgt. :\n",
    "{all_text}\n",
    "\"\"\"\n",
    "query_mistral(\"mistral\", full_prompt)"
   ]
  },
  {
   "cell_type": "code",
   "execution_count": 6,
   "id": "d8004176-2cfe-4d98-838c-28399b250828",
   "metadata": {},
   "outputs": [
    {
     "data": {
      "text/plain": [
       "['Die Sahnemaschine muss täglich und wöchentlich gereinigt werden.\\n \\nTägliche Desinfektionsreinigung:\\n \\nSaugrohr und den Sahnetopf herausnehmen und unter fließendem Wasser reinigen\\nSpültopf mit 1,5 L warmem Wasser füllen und in den Sanomat setzen\\nEimer unter die Düse stellen\\nReinigungstaste drücken\\nTa',\n",
       " ' unter die Düse stellen\\nReinigungstaste drücken\\nTauschen der Garniertülle gegen die Reinigungsdüse\\nSpültopf mit 1,5 L  warmem Wasser und 30 ml SANO-Desinfektion füllen\\nReinigungstaste drücken\\nSpültopf reinigen\\nZur Nachreinigung 1,5 L kaltes Wasser in den Spültopf füllen\\nReinigungstaste drücken\\nReini',\n",
       " ' den Spültopf füllen\\nReinigungstaste drücken\\nReinigungsdüse durch die gereinigte Garniertülle ersetzen\\nEin Tuch mit SANO-Desinfektion tränken und die Maschine von außen und innen reinigen\\nDas Gerät über Nacht eingeschaltet lassen\\n \\n \\nWöchentliche Desinfektionsreinigung:\\n \\nSaugrohr aus dem Gehäuse zi',\n",
       " 'infektionsreinigung:\\n \\nSaugrohr aus dem Gehäuse ziehen\\nGehäuse vom Ventilkopf abziehen\\nLuftregulierungsschraube abschrauben\\nGabel herausziehen\\nGabel von unten in das Gehäuse stoßen und die Luftdüsenscheibe und das Rückschlagventil herausdrücken\\nDie Luftdüsenscheibe mit kleinster Bürste reinigen\\nAlle',\n",
       " 'uftdüsenscheibe mit kleinster Bürste reinigen\\nAlle Teile mit SANO-Desinfektion reinigen und gründlich unter fließend heißem Wasser abspülen\\nGehäuse drehend in den Ventilkopf einsetzen, sodass es korrekt einrastet\\nSaugrohr-Bohrung nach rechts, nicht nach hinten\\nAlle Teile sowie Suagrohr wieder einset',\n",
       " 'ach hinten\\nAlle Teile sowie Suagrohr wieder einsetzen\\nLuftregulierungsschraube im Uhrzeigersinn zudrehen\\nLuftregulierung nie in der Stellung \"0\" stehenlassen']"
      ]
     },
     "execution_count": 6,
     "metadata": {},
     "output_type": "execute_result"
    }
   ],
   "source": [
    "# Load and chunk document\n",
    "def chunk_text(text, chunk_size=300, overlap=50):\n",
    "    chunks = []\n",
    "    start = 0\n",
    "    while start < len(text):\n",
    "        chunks.append(text[start:start+chunk_size])\n",
    "        start += chunk_size - overlap\n",
    "    return chunks\n",
    "\n",
    "docs = []\n",
    "paths = [os.path.join(\"test_data\", f) for f in os.listdir(\"test_data\") if f.endswith(\".txt\")]\n",
    "for path in paths:\n",
    "    with open(path, \"r\", encoding=\"utf-8\") as f:\n",
    "        chunks = chunk_text(f.read())\n",
    "        docs.extend(chunks)\n",
    "docs"
   ]
  },
  {
   "cell_type": "code",
   "execution_count": 7,
   "id": "ee3f4773-b22b-4712-8039-9d8fe156e68e",
   "metadata": {},
   "outputs": [],
   "source": [
    "from sklearn.feature_extraction.text import TfidfVectorizer\n",
    "from sklearn.metrics.pairwise import cosine_similarity\n",
    "\n",
    "# Vectorize chunks\n",
    "vectorizer = TfidfVectorizer().fit(docs)\n",
    "doc_vectors = vectorizer.transform(docs)"
   ]
  },
  {
   "cell_type": "code",
   "execution_count": 10,
   "id": "c66222b2-4205-4b6f-a692-ed7bedbd87e2",
   "metadata": {},
   "outputs": [
    {
     "name": "stdout",
     "output_type": "stream",
     "text": [
      "Response:  Du musst den Ventilkopf abziehen während der wöchentlichen infektionsreinigung.\n",
      "\n",
      "⏱️ Time taken: 67.75 seconds\n"
     ]
    }
   ],
   "source": [
    "# RAG query\n",
    "def rag_query(question, top_k=3):\n",
    "    q_vec = vectorizer.transform([question])\n",
    "    scores = cosine_similarity(q_vec, doc_vectors)[0]\n",
    "    top_idxs = scores.argsort()[-top_k:][::-1]\n",
    "    \n",
    "    context = \"\\n\\n\".join(docs[i] for i in top_idxs)\n",
    "    prompt = f\"Context:\\n{context}\\n\\nQuestion: {question}\\nAnswer:\"\n",
    "\n",
    "    query_mistral(\"mistral\", prompt)\n",
    "\n",
    "question = \"Wann muss ich den Ventilkopf abziehen?\"\n",
    "rag_query(question)"
   ]
  },
  {
   "cell_type": "code",
   "execution_count": null,
   "id": "30fb6ca5-5653-4f87-a8a0-89d37d8a5e22",
   "metadata": {},
   "outputs": [],
   "source": []
  }
 ],
 "metadata": {
  "kernelspec": {
   "display_name": "Python 3 (ipykernel)",
   "language": "python",
   "name": "python3"
  },
  "language_info": {
   "codemirror_mode": {
    "name": "ipython",
    "version": 3
   },
   "file_extension": ".py",
   "mimetype": "text/x-python",
   "name": "python",
   "nbconvert_exporter": "python",
   "pygments_lexer": "ipython3",
   "version": "3.11.6"
  }
 },
 "nbformat": 4,
 "nbformat_minor": 5
}
