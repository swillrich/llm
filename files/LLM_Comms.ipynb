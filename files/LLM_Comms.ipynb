{
 "cells": [
  {
   "cell_type": "code",
   "execution_count": 1,
   "id": "a42ce121-afef-4b1b-8eb8-758a55947f13",
   "metadata": {},
   "outputs": [],
   "source": [
    "import requests\n",
    "import time"
   ]
  },
  {
   "cell_type": "code",
   "execution_count": 2,
   "id": "10c862f6-d836-41c4-b196-5d7d72c0e96d",
   "metadata": {},
   "outputs": [
    {
     "data": {
      "text/plain": [
       "{'Data Catalogs.txt': 'In einem modernen Unternehmen, in dem Daten aus unterschiedlichsten Quellen – etwa ERP-Systemen, IoT-Plattformen, Webtracking-Tools oder externen Datenlieferanten – zusammenfließen, wird es zunehmend entscheidend, nicht nur die Daten selbst, sondern auch deren Kontext, Herkunft und Nutzungsmöglichkeiten zu dokumentieren, was durch systematische Metadatenpflege und den Einsatz von Data Catalogs ermöglicht wird; ein gut gepflegter Datenkatalog wirkt wie eine Landkarte im Dickicht komplexer Datenlandschaften: Er zeigt, welche Daten wo liegen, wie sie aufgebaut sind, wer sie nutzt, wofür sie gebraucht werden und wie vertrauenswürdig sie sind – und ermöglicht damit nicht nur eine bessere Auffindbarkeit, sondern auch eine koordinierte Wiederverwendung, Governance und Qualitätssicherung, was insbesondere in datengetriebenen Transformationsprojekten enorme Effizienzvorteile bringt.',\n",
       " 'Data Governance.txt': 'Wenn Unternehmen wachsen und sich ihre Prozesse, Systeme und Abteilungen zunehmend diversifizieren, wird die Notwendigkeit einer stringenten Data Governance schnell deutlich, denn ohne klar definierte Verantwortlichkeiten, Regeln zur Datenqualität und einheitliche Begriffsdefinitionen droht die Gefahr, dass Berichte inkonsistent sind, Analysen auf falschen Annahmen basieren und kritische Entscheidungen auf unsauberen Daten getroffen werden; eine gute Data Governance stellt sicher, dass jede Datenquelle nachvollziehbar, vertrauenswürdig und kontextualisiert ist, dass der Zugriff auf sensible Informationen kontrolliert erfolgt und dass Datenverantwortliche – sogenannte Data Owner und Data Stewards – in einem strukturierten Rahmen agieren, der sowohl Kontrollmechanismen als auch Freiräume für Innovationspotenziale bietet.',\n",
       " 'Datenqualität.txt': 'Datenqualität ist weit mehr als nur das Vermeiden von Tippfehlern oder das Entfernen leerer Felder in Tabellen – sie betrifft die Korrektheit, Vollständigkeit, Aktualität, Konsistenz und Relevanz von Daten über ihren gesamten Lebenszyklus hinweg und hat unmittelbaren Einfluss auf die Effizienz von Geschäftsprozessen, die Aussagekraft von Analysen und die Zuverlässigkeit automatisierter Entscheidungen, wie sie etwa in Machine-Learning-Modellen getroffen werden; dabei ist die Herausforderung oft weniger technischer als vielmehr organisatorischer Natur, denn ohne ein gemeinsames Verständnis über Qualitätsziele und kontinuierliche Pflegeprozesse entstehen selbst in modernsten Systemlandschaften sogenannte „Data Swamps“, in denen sich niemand mehr zurechtfindet – mit der Folge, dass Vertrauen verloren geht und Daten nicht mehr genutzt werden.',\n",
       " 'Datenstrategie.txt': 'Eine durchdachte Datenstrategie ist nicht einfach nur ein hübsches Dokument, das in der Schublade des CIOs verstaubt, sondern vielmehr ein lebendiges Regelwerk, das den Rahmen für alle datenbezogenen Aktivitäten im Unternehmen vorgibt – angefangen bei der Definition relevanter Datenprodukte über die Klärung von Zuständigkeiten bis hin zur Etablierung klarer Zielbilder für Data Governance, Architektur und Datenkompetenzentwicklung; dabei ist es essenziell, dass die Strategie nicht im luftleeren Raum formuliert wird, sondern eng an der übergeordneten Unternehmensstrategie ausgerichtet ist und gleichzeitig die operativen Herausforderungen, technischen Gegebenheiten sowie regulatorischen Anforderungen berücksichtigt, um nicht in Aktionismus zu verfallen, sondern langfristig nachhaltige Mehrwerte durch die gezielte Nutzung und den Schutz von Daten zu realisieren.',\n",
       " 'Rollen.txt': 'Ein häufig unterschätzter Erfolgsfaktor im Datenmanagement ist die klare Definition und konsequente Umsetzung von Rollenmodellen, denn nur wenn transparent geregelt ist, wer für welche Datenbereiche verantwortlich ist – etwa als Data Owner, der die geschäftliche Verantwortung für die Inhalte trägt, oder als Data Steward, der sich operativ um Qualität und Pflege kümmert –, kann die Zusammenarbeit zwischen Fachbereichen, IT und Data Teams reibungslos funktionieren; hinzu kommen Rollen wie der Chief Data Officer, der strategisch steuert, Data Analysts, die Erkenntnisse aus den Daten gewinnen, und Data Engineers, die für die technische Verarbeitung und Bereitstellung zuständig sind – all diese Rollen müssen abgestimmt sein, über passende Tools verfügen und in einem organisatorischen Rahmen zusammenarbeiten, der sowohl Verantwortung als auch Befähigung ermöglicht.'}"
      ]
     },
     "execution_count": 2,
     "metadata": {},
     "output_type": "execute_result"
    }
   ],
   "source": [
    "import os\n",
    "\n",
    "folder_path = \"sample_data\"\n",
    "text_files = [f for f in os.listdir(folder_path) if f.endswith(\".txt\")]\n",
    "\n",
    "documents = {}\n",
    "for file_name in text_files:\n",
    "    with open(os.path.join(folder_path, file_name), 'r', encoding='utf-8') as file:\n",
    "        documents[file_name] = file.read()\n",
    "all_text = \"\\n\\n\".join(documents.values())\n",
    "documents"
   ]
  },
  {
   "cell_type": "code",
   "execution_count": null,
   "id": "783d020b-8c67-4c7e-b1d8-a8065a086e78",
   "metadata": {},
   "outputs": [],
   "source": [
    "def query_mistral(model, prompt):\n",
    "    url = \"http://ollama:11434/api/generate\"\n",
    "    payload = {\n",
    "        \"model\": model,\n",
    "        \"prompt\": prompt,\n",
    "        \"stream\": False\n",
    "    }\n",
    "\n",
    "    start_time = time.time()\n",
    "    response = requests.post(url, json=payload)\n",
    "    end_time = time.time()\n",
    "\n",
    "    result = response.json()[\"response\"]\n",
    "    duration = end_time - start_time\n",
    "\n",
    "    print(f\"Response: {result}\")\n",
    "    print(f\"\\n⏱️ Time taken: {duration:.2f} seconds\")\n",
    "\n",
    "query_mistral(\"mistral\", \"Kannst du mir auf Deutsch antworten?\")\n",
    "#query_mistral(\"llama2\", \"Kannst du mir auf Deutsch antworten?\")"
   ]
  },
  {
   "cell_type": "code",
   "execution_count": 13,
   "id": "c0ad8894-a454-411c-a47c-75b3e51125bc",
   "metadata": {},
   "outputs": [
    {
     "name": "stdout",
     "output_type": "stream",
     "text": [
      "Response:  The main topic covered across the five documents is Data Management, specifically focusing on data governance, data quality, data strategy, role models in data management, and the overall importance of these aspects for modern businesses.\n",
      "\n",
      "⏱️ Time taken: 131.94 seconds\n"
     ]
    }
   ],
   "source": [
    "question = \"What is the main topic covered across the five documents?\"\n",
    "full_prompt = f\"\"\"The following is a collection of text documents:\n",
    "\n",
    "{all_text}\n",
    "\n",
    "Based on this, answer the following question: {question}\n",
    "\"\"\"\n",
    "query_mistral(\"mistral\", full_prompt)"
   ]
  }
 ],
 "metadata": {
  "kernelspec": {
   "display_name": "Python 3 (ipykernel)",
   "language": "python",
   "name": "python3"
  },
  "language_info": {
   "codemirror_mode": {
    "name": "ipython",
    "version": 3
   },
   "file_extension": ".py",
   "mimetype": "text/x-python",
   "name": "python",
   "nbconvert_exporter": "python",
   "pygments_lexer": "ipython3",
   "version": "3.11.6"
  }
 },
 "nbformat": 4,
 "nbformat_minor": 5
}
