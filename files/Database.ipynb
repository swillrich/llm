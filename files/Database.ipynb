{
 "cells": [
  {
   "cell_type": "code",
   "execution_count": 13,
   "id": "ba39d24e-8552-4c41-a943-0881de501ea1",
   "metadata": {},
   "outputs": [],
   "source": [
    "#!pip install psycopg2-binary numpy"
   ]
  },
  {
   "cell_type": "code",
   "execution_count": 27,
   "id": "7da66df1-92fc-48d9-afd1-f7fed09eacf4",
   "metadata": {},
   "outputs": [],
   "source": [
    "import psycopg2\n",
    "\n",
    "def get_cursor():\n",
    "    # Connect to DB\n",
    "    conn = psycopg2.connect(\n",
    "        dbname=\"vector_db\",\n",
    "        user=\"user\",\n",
    "        password=\"123456\",\n",
    "        host=\"pgvector\",\n",
    "        port=5432\n",
    "    )\n",
    "    cur = conn.cursor()\n",
    "    \n",
    "    # 1. Enable pgvector extension\n",
    "    cur.execute(\"CREATE EXTENSION IF NOT EXISTS vector\")\n",
    "    return cur, conn\n",
    "\n",
    "def select(sql_statement):\n",
    "    cur, conn = get_cursor()\n",
    "    cur.execute(sql_statement)\n",
    "    res = cur.fetchall()\n",
    "    return res\n",
    "\n",
    "def insert(sql_statement, data):\n",
    "    cur, conn = get_cursor()\n",
    "    try:\n",
    "        cur.execute(sql_statement, data)\n",
    "        conn.commit()\n",
    "    except:\n",
    "        conn.rollback()\n",
    "    print(\"✅ Row inserted and committed.\")\n",
    "\n",
    "def delete():\n",
    "    cur, conn = get_cursor()\n",
    "    cur.execute(\"DELETE FROM documents\")\n",
    "    conn.commit()\n",
    "    print(\"✅ All rows deleted.\")\n",
    "    cur, conn = get_cursor()\n",
    "    cur.execute(\"ALTER SEQUENCE documents_id_seq RESTART WITH 1\")\n",
    "    conn.commit()\n",
    "    print(\"✅ ID counter reset.\")"
   ]
  },
  {
   "cell_type": "code",
   "execution_count": 28,
   "id": "59852587-1579-4030-b81f-6699a5d1df13",
   "metadata": {},
   "outputs": [
    {
     "name": "stdout",
     "output_type": "stream",
     "text": [
      "✅ Table dropped.\n"
     ]
    }
   ],
   "source": [
    "# Drop the table if it exists\n",
    "cur, conn = get_cursor()\n",
    "cur.execute(\"DROP TABLE IF EXISTS documents\")\n",
    "conn.commit()\n",
    "print(\"✅ Table dropped.\")"
   ]
  },
  {
   "cell_type": "code",
   "execution_count": 29,
   "id": "daa1d9e8-2177-497e-a998-6805526aa7c3",
   "metadata": {},
   "outputs": [
    {
     "name": "stdout",
     "output_type": "stream",
     "text": [
      "✅ Table created.\n"
     ]
    }
   ],
   "source": [
    "# 2. Create table with vector column\n",
    "cur, conn = get_cursor()\n",
    "cur.execute(\"\"\"\n",
    "CREATE TABLE IF NOT EXISTS documents (\n",
    "    id SERIAL PRIMARY KEY,\n",
    "    content TEXT,\n",
    "    embedding VECTOR(1454)\n",
    ")\n",
    "\"\"\")\n",
    "conn.commit()\n",
    "print(\"✅ Table created.\")"
   ]
  },
  {
   "cell_type": "code",
   "execution_count": 30,
   "id": "7818b26a-45ab-47b3-b9bb-74a62020e710",
   "metadata": {},
   "outputs": [
    {
     "name": "stdout",
     "output_type": "stream",
     "text": [
      "[]\n"
     ]
    }
   ],
   "source": [
    "res = select(\"SELECT * FROM documents\")\n",
    "print(res)"
   ]
  }
 ],
 "metadata": {
  "kernelspec": {
   "display_name": "Python 3 (ipykernel)",
   "language": "python",
   "name": "python3"
  },
  "language_info": {
   "codemirror_mode": {
    "name": "ipython",
    "version": 3
   },
   "file_extension": ".py",
   "mimetype": "text/x-python",
   "name": "python",
   "nbconvert_exporter": "python",
   "pygments_lexer": "ipython3",
   "version": "3.11.6"
  }
 },
 "nbformat": 4,
 "nbformat_minor": 5
}
